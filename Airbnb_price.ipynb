{
  "cells": [
    {
      "cell_type": "code",
      "execution_count": null,
      "source": [
        "# download data (-q is the quiet mode)\n",
        "#Can't find a1 file, changed it to a2\n",
        "! wget -q https://github.com/CISC-372/Notebook/releases/download/a1/test.csv -O test.csv\n",
        "! wget -q https://github.com/CISC-372/Notebook/releases/download/a1/train.csv -O train.csv\n",
        "\n"
      ],
      "outputs": [],
      "metadata": {
        "id": "vTs11WubmRhV"
      }
    },
    {
      "cell_type": "code",
      "execution_count": null,
      "source": [
        "import pandas as pd\n",
        "\n",
        "#setting up training data\n",
        "Xy_train = pd.read_csv('train.csv', engine='python')\n",
        "#seperate tranning \n",
        "X_train = Xy_train.drop(columns=['price_rating'])\n",
        "y_train = Xy_train[['price_rating']]\n",
        "\n",
        "print('traning', len(X_train))\n",
        "Xy_train.price_rating.hist()\n",
        "\n",
        "#setting up testing set\n",
        "X_test = pd.read_csv('test.csv', engine='python')\n",
        "testing_ids = X_test.Id\n",
        "print('testing', len(X_test))"
      ],
      "outputs": [
        {
          "output_type": "stream",
          "name": "stdout",
          "text": [
            "traning 7631\n",
            "testing 7632\n"
          ]
        },
        {
          "output_type": "display_data",
          "data": {
            "image/png": "[encoded data removed]",
            "text/plain": [
              "<Figure size 432x288 with 1 Axes>"
            ]
          },
          "metadata": {
            "needs_background": "light"
          }
        }
      ],
      "metadata": {
        "colab": {
          "base_uri": "https://localhost:8080/",
          "height": 300
        },
        "id": "jrsga6qkouO1",
        "outputId": "b89f0663-68ee-4cc4-b35d-5fea3eab5c2d"
      }
    },
    {
      "cell_type": "code",
      "execution_count": null,
      "source": [
        "# model training and tuning\n",
        "import numpy as np\n",
        "from sklearn.compose import ColumnTransformer, make_column_transformer\n",
        "from sklearn.datasets import fetch_openml\n",
        "from sklearn.pipeline import Pipeline, make_pipeline\n",
        "from sklearn.impute import SimpleImputer\n",
        "from sklearn.preprocessing import StandardScaler, OneHotEncoder, LabelEncoder\n",
        "from sklearn.linear_model import LogisticRegression\n",
        "from sklearn.model_selection import train_test_split, GridSearchCV, RandomizedSearchCV\n",
        "from xgboost.sklearn import XGBClassifier\n",
        "\n",
        "np.random.seed(0)"
      ],
      "outputs": [],
      "metadata": {
        "id": "ffrgJVkNsAEM"
      }
    },
    {
      "cell_type": "code",
      "execution_count": null,
      "source": [
        "from sklearn.ensemble import RandomForestClassifier\n",
        "#make model more accurate by adding more features\n",
        "#the numeric features that needs\n",
        "numeric_features = [ 'bedrooms', 'accommodates', 'beds','bathrooms','guests_included','availability_365','number_of_reviews',\n",
        "                    'review_scores_rating','review_scores_accuracy','review_scores_cleanliness','review_scores_checkin', \n",
        "                    'review_scores_communication', 'review_scores_location', 'review_scores_value', 'reviews_per_month','minimum_nights','maximum_nights',\n",
        "                    'minimum_nights_avg_ntm', 'maximum_minimum_nights',\n",
        "                    'minimum_minimum_nights','availability_30','availability_60','availability_90'\n",
        "                  ]\n",
        "\n",
        "# fixing missing imput with the mean of each column and standerize the data\n",
        "numeric_transformer = Pipeline(steps=[\n",
        "    ('imputer', SimpleImputer(strategy='median')),\n",
        "    ('scaler', StandardScaler())])\n",
        "\n",
        "#the categorical features that needs\n",
        "categorical_features = [\n",
        "                        'property_type', 'is_business_travel_ready', 'room_type','host_is_superhost','bed_type','cancellation_policy']\n",
        "# fix the missing value wirh fill_value OneHotEncoder Encode categorical features as a one-hot numeric array.\n",
        "categorical_transformer = Pipeline(steps=[\n",
        "    ('imputer', SimpleImputer(strategy='constant', fill_value='missing')),\n",
        "    ('onehot', OneHotEncoder(handle_unknown='ignore'))])\n",
        "\n",
        "#transform the list in the transformers (list of num and cat) to the subset of the data\n",
        "preprocessor = ColumnTransformer(\n",
        "    transformers=[\n",
        "        ('num', numeric_transformer, numeric_features),\n",
        "        ('cat', categorical_transformer, categorical_features)])\n",
        "\n",
        "# apply pipeline opration\n",
        "model = Pipeline(steps=[('preprocessor', preprocessor),\n",
        "                      ('regressor', RandomForestClassifier ())])\n",
        "\n",
        "#getting the data from the numeric and categorical cells\n",
        "X_train = X_train[[*numeric_features, *categorical_features]]\n",
        "X_test = X_test[[*numeric_features, *categorical_features]]\n",
        "\n",
        "\n",
        "# `__` denotes attribute \n",
        "# (e.g. regressor__n_estimators means the `n_estimators` param for `regressor`\n",
        "#  which is our xgb)\n",
        "#incase of \n",
        "param_grid = {\n",
        "    'preprocessor__num__imputer__strategy': ['mean'],\n",
        "    'regressor__n_estimators': [50, 100],\n",
        "    'regressor__max_depth':[10, 20]\n",
        "}\n",
        "\n",
        "#using grid search\n",
        "random_search_1 = GridSearchCV(\n",
        "    model, param_grid, cv=5, verbose=3, n_jobs=2, \n",
        "    scoring='accuracy')\n",
        "random_search_1.fit(X_train, y_train)\n",
        "\n",
        "print('best score {}'.format(random_search_1.best_score_))\n"
      ],
      "outputs": [
        {
          "output_type": "stream",
          "name": "stdout",
          "text": [
            "Fitting 5 folds for each of 4 candidates, totalling 20 fits\n"
          ]
        },
        {
          "output_type": "stream",
          "name": "stderr",
          "text": [
            "/usr/local/lib/python3.7/dist-packages/sklearn/pipeline.py:394: DataConversionWarning: A column-vector y was passed when a 1d array was expected. Please change the shape of y to (n_samples,), for example using ravel().\n",
            "  self._final_estimator.fit(Xt, y, **fit_params_last_step)\n"
          ]
        },
        {
          "output_type": "stream",
          "name": "stdout",
          "text": [
            "best score 0.7193031333764197\n"
          ]
        }
      ],
      "metadata": {
        "id": "QTPJtrk5UAm6",
        "colab": {
          "base_uri": "https://localhost:8080/"
        },
        "outputId": "12d2781f-0294-4e29-dcea-42888de9e3b5"
      }
    },
    {
      "cell_type": "code",
      "execution_count": null,
      "source": [
        "# Prediction & generating the submission file\n",
        "y_pred = random_search_1.predict(X_test)\n",
        "pd.DataFrame(\n",
        "    {'Id': testing_ids, 'price_rating':y_pred}).to_csv('submission.csv', index=False)"
      ],
      "outputs": [],
      "metadata": {
        "id": "PF6WrzdKmJ97"
      }
    }
  ],
  "metadata": {
    "colab": {
      "name": "A1_20144322.ipynb",
      "provenance": [],
      "collapsed_sections": []
    },
    "kernelspec": {
      "display_name": "Python 3",
      "language": "python",
      "name": "python3"
    },
    "language_info": {
      "codemirror_mode": {
        "name": "ipython",
        "version": 3
      },
      "file_extension": ".py",
      "mimetype": "text/x-python",
      "name": "python",
      "nbconvert_exporter": "python",
      "pygments_lexer": "ipython3",
      "version": "3.7.6"
    }
  },
  "nbformat": 4,
  "nbformat_minor": 2
}